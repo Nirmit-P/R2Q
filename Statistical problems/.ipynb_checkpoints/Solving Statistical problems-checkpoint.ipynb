{
 "cells": [
  {
   "cell_type": "markdown",
   "id": "94eab45c",
   "metadata": {},
   "source": [
    "# Statistical problems: Worksheet"
   ]
  },
  {
   "cell_type": "markdown",
   "id": "9c2a20aa",
   "metadata": {},
   "source": [
    "#### - Created by: Nirmit Patel\n",
    "#### - Last edited by: Nirmit Patel\n",
    "#### - Last edited on: 04/03/23"
   ]
  },
  {
   "cell_type": "markdown",
   "id": "e3c64ee5",
   "metadata": {},
   "source": [
    "----------------------------------\n",
    "### In this notebook we solve the following statistical problems:"
   ]
  },
  {
   "cell_type": "markdown",
   "id": "e6effc15",
   "metadata": {},
   "source": [
    "- If you rolled 2 dice 100 times and added the numbers, how many times would you get 8?\n",
    "- What is the probability that AAPL will drop 5% or more in a day?\n",
    "- What is the probability that AAPL will drop 20% or more in a year?\n",
    "- What is the estimated daily log stock return of AAPL with confidence interval 90%?"
   ]
  },
  {
   "cell_type": "code",
   "execution_count": 46,
   "id": "22d20ec4",
   "metadata": {},
   "outputs": [],
   "source": [
    "import pandas as pd\n",
    "import numpy as np\n",
    "import matplotlib.pyplot as plt\n",
    "%matplotlib inline\n",
    "from scipy.stats import norm"
   ]
  },
  {
   "cell_type": "markdown",
   "id": "6b2b4a62",
   "metadata": {},
   "source": [
    "### Q) If you rolled 2 dice 100 times and added the numbers, how many times would you get 8?"
   ]
  },
  {
   "cell_type": "code",
   "execution_count": 47,
   "id": "baf87591",
   "metadata": {},
   "outputs": [
    {
     "name": "stdout",
     "output_type": "stream",
     "text": [
      "Sum of dice is 9\n"
     ]
    }
   ],
   "source": [
    "# First, lets simulate a single dice roll\n",
    "die = pd.DataFrame([1, 2, 3, 4, 5, 6])\n",
    "sum_of_dice = die.sample(2, replace=True).sum().loc[0]\n",
    "print('Sum of dice is', sum_of_dice)  "
   ]
  },
  {
   "cell_type": "code",
   "execution_count": 48,
   "id": "990673eb",
   "metadata": {},
   "outputs": [
    {
     "data": {
      "text/plain": [
       "<AxesSubplot:>"
      ]
     },
     "execution_count": 48,
     "metadata": {},
     "output_type": "execute_result"
    },
    {
     "data": {
      "image/png": "[encoded data removed]",
      "text/plain": [
       "<Figure size 1080x576 with 1 Axes>"
      ]
     },
     "metadata": {
      "needs_background": "light"
     },
     "output_type": "display_data"
    }
   ],
   "source": [
    "# Now we want to roll the dice 100 times and store the results. Then plot the results\n",
    "trial = 100\n",
    "results = [die.sample(2, replace=True).sum().loc[0] for i in range(trial)]\n",
    "results_df = pd.DataFrame(results)[0]\n",
    "results_df.value_counts().sort_index().plot(kind = 'bar', color = 'green', figsize=(15, 8))"
   ]
  },
  {
   "cell_type": "markdown",
   "id": "53e85efa",
   "metadata": {},
   "source": [
    "Notes: \n",
    "- Seems like the distribution is normally distributed"
   ]
  },
  {
   "cell_type": "markdown",
   "id": "9f8988ab",
   "metadata": {},
   "source": [
    "### Q) What is the probability that AAPL will drop 5% or more in a day?"
   ]
  },
  {
   "cell_type": "code",
   "execution_count": 49,
   "id": "dcb1b4a7",
   "metadata": {},
   "outputs": [],
   "source": [
    "aapl = pd.read_csv('/Users/nirmit/Documents/GitHub/R2Q/Trading Strategies/EMA Crossover/data/AAPL.csv')"
   ]
  },
  {
   "cell_type": "code",
   "execution_count": 50,
   "id": "94da5df7",
   "metadata": {},
   "outputs": [
    {
     "data": {
      "text/html": [
       "<div>\n",
       "<style scoped>\n",
       "    .dataframe tbody tr th:only-of-type {\n",
       "        vertical-align: middle;\n",
       "    }\n",
       "\n",
       "    .dataframe tbody tr th {\n",
       "        vertical-align: top;\n",
       "    }\n",
       "\n",
       "    .dataframe thead th {\n",
       "        text-align: right;\n",
       "    }\n",
       "</style>\n",
       "<table border=\"1\" class=\"dataframe\">\n",
       "  <thead>\n",
       "    <tr style=\"text-align: right;\">\n",
       "      <th></th>\n",
       "      <th>Date</th>\n",
       "      <th>Open</th>\n",
       "      <th>High</th>\n",
       "      <th>Low</th>\n",
       "      <th>Close</th>\n",
       "      <th>Adj Close</th>\n",
       "      <th>Volume</th>\n",
       "    </tr>\n",
       "  </thead>\n",
       "  <tbody>\n",
       "    <tr>\n",
       "      <th>0</th>\n",
       "      <td>2018-02-26</td>\n",
       "      <td>44.087502</td>\n",
       "      <td>44.847500</td>\n",
       "      <td>44.052502</td>\n",
       "      <td>44.742500</td>\n",
       "      <td>42.653973</td>\n",
       "      <td>152648800</td>\n",
       "    </tr>\n",
       "    <tr>\n",
       "      <th>1</th>\n",
       "      <td>2018-02-27</td>\n",
       "      <td>44.775002</td>\n",
       "      <td>45.119999</td>\n",
       "      <td>44.540001</td>\n",
       "      <td>44.597500</td>\n",
       "      <td>42.515739</td>\n",
       "      <td>155712400</td>\n",
       "    </tr>\n",
       "    <tr>\n",
       "      <th>2</th>\n",
       "      <td>2018-02-28</td>\n",
       "      <td>44.814999</td>\n",
       "      <td>45.154999</td>\n",
       "      <td>44.512501</td>\n",
       "      <td>44.529999</td>\n",
       "      <td>42.451382</td>\n",
       "      <td>151128400</td>\n",
       "    </tr>\n",
       "  </tbody>\n",
       "</table>\n",
       "</div>"
      ],
      "text/plain": [
       "         Date       Open       High        Low      Close  Adj Close  \\\n",
       "0  2018-02-26  44.087502  44.847500  44.052502  44.742500  42.653973   \n",
       "1  2018-02-27  44.775002  45.119999  44.540001  44.597500  42.515739   \n",
       "2  2018-02-28  44.814999  45.154999  44.512501  44.529999  42.451382   \n",
       "\n",
       "      Volume  \n",
       "0  152648800  \n",
       "1  155712400  \n",
       "2  151128400  "
      ]
     },
     "execution_count": 50,
     "metadata": {},
     "output_type": "execute_result"
    }
   ],
   "source": [
    "aapl.head(3)"
   ]
  },
  {
   "cell_type": "code",
   "execution_count": 51,
   "id": "5fe53991",
   "metadata": {},
   "outputs": [],
   "source": [
    "# First lets calculate the daily log returns \n",
    "aapl['LogReturns'] = np.log(aapl['Close']).shift(-1) - np.log(aapl['Close'])"
   ]
  },
  {
   "cell_type": "code",
   "execution_count": 52,
   "id": "5b02aeb0",
   "metadata": {},
   "outputs": [
    {
     "name": "stdout",
     "output_type": "stream",
     "text": [
      "Probability of AAPL dropping more than 5% in a single trading day is:  0.007865956718508095\n"
     ]
    }
   ],
   "source": [
    "# Now, we find the mean and std of the log returns\n",
    "mu = aapl['LogReturns'].mean()\n",
    "sigma = aapl['LogReturns'].std(ddof = 1)\n",
    "\n",
    "proba_drop = norm.cdf(-0.05, mu, sigma)\n",
    "print('Probability of AAPL dropping more than 5% in a single trading day is: ', proba_drop)"
   ]
  },
  {
   "cell_type": "markdown",
   "id": "76694acc",
   "metadata": {},
   "source": [
    "### Q) What is the probability that AAPL will drop 20% or more in a year?"
   ]
  },
  {
   "cell_type": "code",
   "execution_count": 53,
   "id": "76b85dbd",
   "metadata": {},
   "outputs": [
    {
     "name": "stdout",
     "output_type": "stream",
     "text": [
      "Probability of AAPL dropping more than 20% in a year is:  0.09556788440071795\n"
     ]
    }
   ],
   "source": [
    "mu_year = mu*250 \n",
    "sigma_year = (250**0.5) * sigma\n",
    "\n",
    "proba_drop_year = norm.cdf(-0.2, mu_year, sigma_year)\n",
    "print('Probability of AAPL dropping more than 20% in a year is: ', proba_drop_year)"
   ]
  },
  {
   "cell_type": "markdown",
   "id": "4e9584c1",
   "metadata": {},
   "source": [
    "### Q) What is the estimated daily stock return of AAPL with confidence interval 90%?"
   ]
  },
  {
   "cell_type": "code",
   "execution_count": 59,
   "id": "77183e46",
   "metadata": {},
   "outputs": [
    {
     "name": "stdout",
     "output_type": "stream",
     "text": [
      "90% confidence interval is  (-3.387374639427529e-05, 0.001921845231219872)\n"
     ]
    }
   ],
   "source": [
    "sample_size = aapl['LogReturns'].shape[0]\n",
    "sample_mean = aapl['LogReturns'].mean()\n",
    "sample_std = aapl['LogReturns'].std(ddof=1) / sample_size**0.5\n",
    "\n",
    "z_left = norm.ppf(0.05)\n",
    "z_right = norm.ppf(0.95)\n",
    "\n",
    "interval_left = sample_mean+z_left*sample_std\n",
    "interval_right = sample_mean+z_right*sample_std\n",
    "\n",
    "print('90% confidence interval is ', (interval_left, interval_right))"
   ]
  },
  {
   "cell_type": "markdown",
   "id": "e582d01a",
   "metadata": {},
   "source": [
    "Note: \n",
    "- This means that we can be 90% confident that the true value of the daily log return of AAPL is between (-3.387374639427529e-05, 0.001921845231219872)"
   ]
  },
  {
   "cell_type": "code",
   "execution_count": null,
   "id": "03b4fd6e",
   "metadata": {},
   "outputs": [],
   "source": []
  }
 ],
 "metadata": {
  "kernelspec": {
   "display_name": "Python 3",
   "language": "python",
   "name": "python3"
  },
  "language_info": {
   "codemirror_mode": {
    "name": "ipython",
    "version": 3
   },
   "file_extension": ".py",
   "mimetype": "text/x-python",
   "name": "python",
   "nbconvert_exporter": "python",
   "pygments_lexer": "ipython3",
   "version": "3.8.8"
  }
 },
 "nbformat": 4,
 "nbformat_minor": 5
}
